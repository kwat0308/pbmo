{
 "cells": [
  {
   "cell_type": "code",
   "execution_count": 1,
   "metadata": {},
   "outputs": [],
   "source": [
    "'''notebook to check if our matrices yield the correct results'''\n",
    "\n",
    "from pbmo.lib.pymatrix import pyMatrix, npMatrix, cpMatrix\n",
    "from pbmo.lib._libpbmo import Matrix, BoostMatrix\n",
    "import numpy as np"
   ]
  },
  {
   "cell_type": "code",
   "execution_count": 2,
   "metadata": {},
   "outputs": [
    {
     "name": "stdout",
     "output_type": "stream",
     "text": [
      "3.297302975379221 3.297303 3.297303 3.2973031997680664 3.2973031997680664\n",
      "5\n",
      "[[1.66347158 1.25073772 1.33364027 1.40273008 2.10692351]\n",
      " [1.6386881  0.95600065 1.1638297  1.26700696 2.0487049 ]\n",
      " [1.30722513 0.74059902 1.08056299 1.13254857 1.43418583]\n",
      " [1.50115429 0.93427895 0.86248799 1.3917883  1.44282055]\n",
      " [1.44306336 0.88241352 1.14840059 1.19600505 1.71519232]] \n",
      " [[1.6634716 1.2507377 1.3336402 1.4027302 2.1069236]\n",
      " [1.6386881 0.9560007 1.1638297 1.267007  2.0487049]\n",
      " [1.3072251 0.740599  1.080563  1.1325486 1.4341859]\n",
      " [1.5011543 0.9342789 0.862488  1.3917882 1.4428205]\n",
      " [1.4430634 0.8824135 1.1484005 1.1960051 1.7151924]] \n",
      " [[1.6634717  1.2507378  1.3336402  1.40273    2.1069236 ]\n",
      " [1.6386881  0.9560007  1.1638297  1.267007   2.048705  ]\n",
      " [1.3072251  0.74059904 1.0805631  1.1325486  1.4341857 ]\n",
      " [1.5011543  0.93427896 0.862488   1.3917884  1.4428205 ]\n",
      " [1.4430634  0.8824135  1.1484005  1.1960051  1.7151923 ]] \n",
      "\n"
     ]
    }
   ],
   "source": [
    "# initalize\n",
    "arr = np.random.rand(5, 5).astype(np.float32)\n",
    "\n",
    "pymatrix = pyMatrix(arr)\n",
    "npmatrix = npMatrix(arr)\n",
    "cpmatrix = cpMatrix(arr)\n",
    "cppmatrix = Matrix(arr)\n",
    "boostmatrix = BoostMatrix(arr)\n",
    "\n",
    "# check norm values\n",
    "print(pymatrix.norm(), npmatrix.norm(), cpmatrix.norm(), cppmatrix.norm(), boostmatrix.norm())\n",
    "\n",
    "# check matrix multiplication values\n",
    "arr1 = np.random.rand(5, 5).astype(np.float32)\n",
    "\n",
    "pymatrix1 = pyMatrix(arr1)\n",
    "npmatrix1 = npMatrix(arr1)\n",
    "cpmatrix1 = cpMatrix(arr1)\n",
    "cppmatrix1 = Matrix(arr1)\n",
    "boostmatrix1 = BoostMatrix(arr1)\n",
    "\n",
    "# boostmatrix1.print_mat()\n",
    "\n",
    "result_cpp = cppmatrix.matmul(cppmatrix1),\n",
    "# print(result_cpp.rows)\n",
    "result_boost = boostmatrix.matmul(boostmatrix1)\n",
    "print(result_boost.rows)\n",
    "\n",
    "print(\n",
    "    pymatrix.matmul(pymatrix1).arr,\n",
    "    \"\\n\",\n",
    "    npmatrix.matmul(npmatrix1).arr,\n",
    "    \"\\n\",\n",
    "    cpmatrix.matmul(cpmatrix1).arr,\n",
    "    \"\\n\"\n",
    ")\n",
    "\n",
    "# cppmatrix.matmul(cppmatrix1).print_mat()\n",
    "# boostmatrix.matmul(boostmatrix1).print_mat()"
   ]
  },
  {
   "cell_type": "code",
   "execution_count": null,
   "metadata": {},
   "outputs": [],
   "source": []
  }
 ],
 "metadata": {
  "kernelspec": {
   "display_name": "Python 3",
   "language": "python",
   "name": "python3"
  },
  "language_info": {
   "codemirror_mode": {
    "name": "ipython",
    "version": 3
   },
   "file_extension": ".py",
   "mimetype": "text/x-python",
   "name": "python",
   "nbconvert_exporter": "python",
   "pygments_lexer": "ipython3",
   "version": "3.7.3"
  }
 },
 "nbformat": 4,
 "nbformat_minor": 4
}
