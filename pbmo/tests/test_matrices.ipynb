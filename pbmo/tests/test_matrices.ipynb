{
 "cells": [
  {
   "cell_type": "code",
   "execution_count": 1,
   "metadata": {},
   "outputs": [],
   "source": [
    "'''notebook to check if our matrices yield the correct results'''\n",
    "\n",
    "from pbmo.lib.pymatrix import pyMatrix, npMatrix, cpMatrix\n",
    "from pbmo.lib._libpbmo import Matrix, BoostMatrix\n",
    "import numpy as np"
   ]
  },
  {
   "cell_type": "code",
   "execution_count": 3,
   "metadata": {},
   "outputs": [
    {
     "name": "stdout",
     "output_type": "stream",
     "text": [
      "2.6754061904790403 2.6754062 2.6754062 2.6754062175750732 2.6754062175750732\n",
      "5\n",
      "[1.12682361 1.32971843 1.35466786 1.93095382 1.56567645] \n",
      " [1.1268235 1.3297185 1.3546679 1.9309537 1.5656765] \n",
      " [1.1268235 1.3297185 1.3546679 1.9309537 1.5656765] \n",
      "\n"
     ]
    }
   ],
   "source": [
    "# initalize\n",
    "arr = np.random.rand(5, 5).astype(np.float32)\n",
    "\n",
    "pymatrix = pyMatrix(arr)\n",
    "npmatrix = npMatrix(arr)\n",
    "cpmatrix = cpMatrix(arr)\n",
    "cppmatrix = Matrix(arr)\n",
    "boostmatrix = BoostMatrix(arr)\n",
    "\n",
    "# check norm values\n",
    "print(pymatrix.norm(), npmatrix.norm(), cpmatrix.norm(), cppmatrix.norm(), boostmatrix.norm())\n",
    "\n",
    "# check matrix multiplication values\n",
    "arr1 = np.random.rand(5, 5).astype(np.float32)\n",
    "\n",
    "pymatrix1 = pyMatrix(arr1)\n",
    "npmatrix1 = npMatrix(arr1)\n",
    "cpmatrix1 = cpMatrix(arr1)\n",
    "cppmatrix1 = Matrix(arr1)\n",
    "boostmatrix1 = BoostMatrix(arr1)\n",
    "\n",
    "# boostmatrix1.print_mat()\n",
    "\n",
    "result_cpp = cppmatrix.matmul(cppmatrix1),\n",
    "# print(result_cpp.rows)\n",
    "result_boost = boostmatrix.matmul(boostmatrix1)\n",
    "print(result_boost.rows)\n",
    "\n",
    "print(\n",
    "    pymatrix.matmul(pymatrix1)[0],\n",
    "    \"\\n\",\n",
    "    npmatrix.matmul(npmatrix1)[0],\n",
    "    \"\\n\",\n",
    "    cpmatrix.matmul(cpmatrix1)[0],\n",
    "    \"\\n\"\n",
    ")\n",
    "\n",
    "cppmatrix.matmul(cppmatrix1).print_mat()\n",
    "boostmatrix.matmul(boostmatrix1).print_mat()"
   ]
  },
  {
   "cell_type": "code",
   "execution_count": null,
   "metadata": {},
   "outputs": [],
   "source": []
  }
 ],
 "metadata": {
  "kernelspec": {
   "display_name": "Python 3",
   "language": "python",
   "name": "python3"
  },
  "language_info": {
   "codemirror_mode": {
    "name": "ipython",
    "version": 3
   },
   "file_extension": ".py",
   "mimetype": "text/x-python",
   "name": "python",
   "nbconvert_exporter": "python",
   "pygments_lexer": "ipython3",
   "version": "3.8.5"
  }
 },
 "nbformat": 4,
 "nbformat_minor": 4
}
