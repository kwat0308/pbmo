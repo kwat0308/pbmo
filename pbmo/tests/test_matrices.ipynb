{
 "cells": [
  {
   "cell_type": "code",
   "execution_count": 1,
   "metadata": {},
   "outputs": [],
   "source": [
    "'''notebook to check if our matrices yield the correct results'''\n",
    "\n",
    "from pbmo.lib.pymatrix import pyMatrix, npMatrix, cpMatrix\n",
    "from pbmo.lib._libpbmo import Matrix, BoostMatrix\n",
    "import numpy as np"
   ]
  },
  {
   "cell_type": "code",
   "execution_count": 5,
   "metadata": {},
   "outputs": [
    {
     "name": "stdout",
     "output_type": "stream",
     "text": [
      "2.901497520891767 2.9014976 2.9014976 2.9014976024627686 2.9014976024627686\n",
      "(<pbmo.lib._libpbmo.Matrix object at 0x000002247EDF0F10>, 9.999999974752427e-07)\n",
      "(<pbmo.lib._libpbmo.BoostMatrix object at 0x000002247EDF0F80>, 6.000000212225132e-07)\n",
      "[[1.38564931 1.50194268 1.00151515 1.0222236  1.08665376]\n",
      " [2.32048675 2.43517195 1.5582054  1.75586773 1.58150007]\n",
      " [2.5721615  2.56455883 1.62615602 1.77871136 1.81131047]\n",
      " [1.23554696 1.15206337 0.83215763 1.1735391  0.84672303]\n",
      " [1.5227918  1.3640197  0.69707405 0.76754354 1.05305921]] \n",
      " [[1.3856493  1.5019426  1.0015152  1.0222236  1.0866537 ]\n",
      " [2.3204868  2.4351718  1.5582054  1.7558677  1.5815    ]\n",
      " [2.5721614  2.5645587  1.6261561  1.7787114  1.8113105 ]\n",
      " [1.235547   1.1520634  0.8321577  1.173539   0.846723  ]\n",
      " [1.5227917  1.3640198  0.697074   0.76754355 1.0530592 ]] \n",
      " [[1.3856493  1.5019426  1.0015152  1.0222236  1.0866537 ]\n",
      " [2.3204868  2.435172   1.5582054  1.7558677  1.5815    ]\n",
      " [2.5721614  2.564559   1.6261561  1.7787114  1.8113105 ]\n",
      " [1.2355471  1.1520634  0.8321577  1.1735392  0.846723  ]\n",
      " [1.5227917  1.3640198  0.69707406 0.7675435  1.0530591 ]] \n",
      "\n"
     ]
    }
   ],
   "source": [
    "# initalize\n",
    "arr = np.random.rand(5, 5).astype(np.float32)\n",
    "\n",
    "pymatrix = pyMatrix(arr)\n",
    "npmatrix = npMatrix(arr)\n",
    "cpmatrix = cpMatrix(arr)\n",
    "cppmatrix = Matrix(arr)\n",
    "boostmatrix = BoostMatrix(arr)\n",
    "\n",
    "# check norm values\n",
    "print(pymatrix.norm(), npmatrix.norm(), cpmatrix.norm(), cppmatrix.norm(), boostmatrix.norm())\n",
    "\n",
    "# check matrix multiplication values\n",
    "arr1 = np.random.rand(5, 5).astype(np.float32)\n",
    "\n",
    "pymatrix1 = pyMatrix(arr1)\n",
    "npmatrix1 = npMatrix(arr1)\n",
    "cpmatrix1 = cpMatrix(arr1)\n",
    "cppmatrix1 = Matrix(arr1)\n",
    "boostmatrix1 = BoostMatrix(arr1)\n",
    "\n",
    "# boostmatrix1.print_mat()\n",
    "\n",
    "ans = cppmatrix.matmul(cppmatrix1, True)\n",
    "print(ans)\n",
    "# print(result_cpp.rows)\n",
    "ans2 = boostmatrix.matmul(boostmatrix1, True)\n",
    "# print(result_boost.rows)\n",
    "print(ans2)\n",
    "\n",
    "print(\n",
    "    pymatrix.matmul(pymatrix1).arr,\n",
    "    \"\\n\",\n",
    "    npmatrix.matmul(npmatrix1).arr,\n",
    "    \"\\n\",\n",
    "    cpmatrix.matmul(cpmatrix1).arr,\n",
    "    \"\\n\"\n",
    ")\n",
    "\n",
    "# cppmatrix.matmul(cppmatrix1).print_mat()\n",
    "# boostmatrix.matmul(boostmatrix1).print_mat()"
   ]
  },
  {
   "cell_type": "code",
   "execution_count": null,
   "metadata": {},
   "outputs": [],
   "source": []
  }
 ],
 "metadata": {
  "kernelspec": {
   "display_name": "Python 3",
   "language": "python",
   "name": "python3"
  },
  "language_info": {
   "codemirror_mode": {
    "name": "ipython",
    "version": 3
   },
   "file_extension": ".py",
   "mimetype": "text/x-python",
   "name": "python",
   "nbconvert_exporter": "python",
   "pygments_lexer": "ipython3",
   "version": "3.7.3"
  }
 },
 "nbformat": 4,
 "nbformat_minor": 4
}
