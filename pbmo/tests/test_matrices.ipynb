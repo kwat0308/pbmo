{
 "cells": [
  {
   "cell_type": "code",
   "execution_count": 1,
   "metadata": {},
   "outputs": [],
   "source": [
    "'''notebook to check if our matrices yield the correct results'''\n",
    "\n",
    "from pbmo.lib.pymatrix import pyMatrix, npMatrix, cpMatrix\n",
    "from pbmo.lib._libpbmo import Matrix, BoostMatrix\n",
    "import numpy as np"
   ]
  },
  {
   "cell_type": "code",
   "execution_count": 2,
   "metadata": {},
   "outputs": [
    {
     "name": "stdout",
     "output_type": "stream",
     "text": [
      "2.656661149604369 2.656661 2.656661 2.656661033630371 2.656661033630371\n",
      "(<pbmo.lib._libpbmo.Matrix object at 0x000001AFA4F94470>, 3.000000106112566e-07)\n",
      "(<pbmo.lib._libpbmo.BoostMatrix object at 0x000001AFA4F944F0>, 3.000000106112566e-07)\n",
      "[[1.93615801 1.37579574 0.72943056 1.35995575 1.70596467]\n",
      " [1.75675014 1.39902953 0.95424068 1.44503529 1.32013582]\n",
      " [0.51088119 0.52009358 0.2848688  0.44868553 0.34826628]\n",
      " [2.27027026 1.84333537 1.25292702 1.50391801 1.47616666]\n",
      " [1.45133903 1.36123033 1.23541826 1.33074284 0.70696194]] \n",
      " [[1.9361581  1.3757958  0.72943056 1.3599557  1.7059647 ]\n",
      " [1.7567502  1.3990295  0.9542407  1.4450353  1.3201358 ]\n",
      " [0.5108812  0.52009356 0.2848688  0.44868553 0.34826627]\n",
      " [2.27027    1.8433354  1.2529271  1.5039179  1.4761667 ]\n",
      " [1.451339   1.3612304  1.2354183  1.3307428  0.7069619 ]] \n",
      " [[1.9361581  1.3757958  0.72943056 1.3599557  1.7059647 ]\n",
      " [1.7567501  1.3990295  0.9542407  1.4450353  1.3201358 ]\n",
      " [0.5108812  0.52009356 0.2848688  0.44868556 0.34826627]\n",
      " [2.2702703  1.8433354  1.2529271  1.5039179  1.4761666 ]\n",
      " [1.451339   1.3612304  1.2354183  1.3307428  0.7069619 ]] \n",
      "\n"
     ]
    }
   ],
   "source": [
    "# initalize\n",
    "arr = np.random.rand(5, 5).astype(np.float32)\n",
    "\n",
    "pymatrix = pyMatrix(arr)\n",
    "npmatrix = npMatrix(arr)\n",
    "cpmatrix = cpMatrix(arr)\n",
    "cppmatrix = Matrix(arr)\n",
    "boostmatrix = BoostMatrix(arr)\n",
    "\n",
    "# check norm values\n",
    "print(pymatrix.norm(), npmatrix.norm(), cpmatrix.norm(), cppmatrix.norm(), boostmatrix.norm())\n",
    "\n",
    "# check matrix multiplication values\n",
    "arr1 = np.random.rand(5, 5).astype(np.float32)\n",
    "\n",
    "pymatrix1 = pyMatrix(arr1)\n",
    "npmatrix1 = npMatrix(arr1)\n",
    "cpmatrix1 = cpMatrix(arr1)\n",
    "cppmatrix1 = Matrix(arr1)\n",
    "boostmatrix1 = BoostMatrix(arr1)\n",
    "\n",
    "# boostmatrix1.print_mat()\n",
    "\n",
    "ans = cppmatrix.matmul(cppmatrix1, True)\n",
    "print(ans)\n",
    "# print(result_cpp.rows)\n",
    "ans2 = boostmatrix.matmul(boostmatrix1, True)\n",
    "# print(result_boost.rows)\n",
    "print(ans2)\n",
    "\n",
    "print(\n",
    "    pymatrix.matmul(pymatrix1).arr,\n",
    "    \"\\n\",\n",
    "    npmatrix.matmul(npmatrix1).arr,\n",
    "    \"\\n\",\n",
    "    cpmatrix.matmul(cpmatrix1).arr,\n",
    "    \"\\n\"\n",
    ")\n",
    "\n",
    "# cppmatrix.matmul(cppmatrix1).print_mat()\n",
    "# boostmatrix.matmul(boostmatrix1).print_mat()"
   ]
  },
  {
   "cell_type": "code",
   "execution_count": null,
   "metadata": {},
   "outputs": [],
   "source": []
  }
 ],
 "metadata": {
  "kernelspec": {
   "display_name": "Python 3",
   "language": "python",
   "name": "python3"
  },
  "language_info": {
   "codemirror_mode": {
    "name": "ipython",
    "version": 3
   },
   "file_extension": ".py",
   "mimetype": "text/x-python",
   "name": "python",
   "nbconvert_exporter": "python",
   "pygments_lexer": "ipython3",
   "version": "3.8.5"
  }
 },
 "nbformat": 4,
 "nbformat_minor": 4
}
