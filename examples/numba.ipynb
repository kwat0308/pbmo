{
 "cells": [
  {
   "cell_type": "code",
   "execution_count": 1,
   "metadata": {},
   "outputs": [],
   "source": [
    "'''Testing platform used to check if numba matricies output correctly or not. For examples, look at single_dimension.ipynb or multiple_dimension.ipynb'''\n",
    "from pbmo.lib.pymatrix import npMatrix\n",
    "from pbmo.lib.numbamatrix import nbMatrix, nbparMatrix, nbcudaMatrix\n",
    "import numpy as np"
   ]
  },
  {
   "cell_type": "code",
   "execution_count": null,
   "metadata": {},
   "outputs": [],
   "source": [
    "# for numba matrices (without parallelization)\n",
    "# initialize random arrays\n",
    "N = 10\n",
    "randarr = np.random.rand(N,N).astype(np.float32)\n",
    "randarr1 = np.random.rand(N,N).astype(np.float32)\n",
    "\n",
    "npmatrix = npMatrix(randarr)\n",
    "npmatrix_1 = npMatrix(randarr1)\n",
    "\n",
    "nbmatrix = nbMatrix(randarr)\n",
    "nbmatrix_1 = nbMatrix(randarr1)\n",
    "\n",
    "# nrm = nbmatrix.norm()\n",
    "nbmatrix_prod, nb_time = nbmatrix.matmul(nbmatrix_1, True)\n",
    "\n",
    "npmatrix_prod, np_time = npmatrix.matmul(npmatrix_1, True)\n",
    "\n",
    "print(nbmatrix_prod.arr - npmatrix_prod.arr)\n",
    "\n",
    "print(nb_time, np_time)"
   ]
  },
  {
   "cell_type": "code",
   "execution_count": 1,
   "metadata": {},
   "outputs": [],
   "source": [
    "# for numba matrices with parallelization\n",
    "# initialize random arrays\n",
    "N = 10\n",
    "randarr = np.random.rand(N,N).astype(np.float32)\n",
    "randarr1 = np.random.rand(N,N).astype(np.float32)\n",
    "\n",
    "npmatrix = npMatrix(randarr)\n",
    "npmatrix_1 = npMatrix(randarr1)\n",
    "\n",
    "nbparmatrix = nbparMatrix(randarr)\n",
    "nbparmatrix_1 = nbparMatrix(randarr1)\n",
    "\n",
    "# nrm = nbparmatrix.norm()\n",
    "nbparmatrix_prod, nbpar_time = nbparmatrix.matmul(nbparmatrix_1, True)\n",
    "\n",
    "npmatrix_prod, np_time = npmatrix.matmul(npmatrix_1, True)\n",
    "\n",
    "print(nbparmatrix_prod.arr - npmatrix_prod.arr)\n",
    "# print(nbparmatrix_prod.arr)\n",
    "# print(npmatrix_prod.arr)\n",
    "\n",
    "print(nbpar_time, np_time)"
   ]
  },
  {
   "cell_type": "code",
   "execution_count": 2,
   "metadata": {},
   "outputs": [
    {
     "name": "stdout",
     "output_type": "stream",
     "text": [
      "[[ 0.0000000e+00  0.0000000e+00  0.0000000e+00  0.0000000e+00\n",
      "   0.0000000e+00  0.0000000e+00 -2.3841858e-07  0.0000000e+00\n",
      "   0.0000000e+00  0.0000000e+00]\n",
      " [ 2.3841858e-07 -2.3841858e-07  0.0000000e+00  0.0000000e+00\n",
      "   0.0000000e+00  0.0000000e+00  0.0000000e+00  1.1920929e-07\n",
      "  -2.3841858e-07 -2.3841858e-07]\n",
      " [ 2.3841858e-07  0.0000000e+00  0.0000000e+00 -2.3841858e-07\n",
      "  -2.3841858e-07  1.1920929e-07  0.0000000e+00  1.1920929e-07\n",
      "   0.0000000e+00  0.0000000e+00]\n",
      " [-2.3841858e-07 -2.3841858e-07  0.0000000e+00  0.0000000e+00\n",
      "   0.0000000e+00  0.0000000e+00  0.0000000e+00  0.0000000e+00\n",
      "   2.3841858e-07  0.0000000e+00]\n",
      " [-2.3841858e-07  0.0000000e+00  0.0000000e+00  2.3841858e-07\n",
      "   0.0000000e+00  0.0000000e+00  2.3841858e-07  0.0000000e+00\n",
      "  -2.3841858e-07  0.0000000e+00]\n",
      " [ 0.0000000e+00  0.0000000e+00  0.0000000e+00  2.3841858e-07\n",
      "   0.0000000e+00  0.0000000e+00  0.0000000e+00 -1.1920929e-07\n",
      "  -2.3841858e-07 -2.3841858e-07]\n",
      " [-2.3841858e-07 -2.3841858e-07 -2.3841858e-07 -2.3841858e-07\n",
      "   0.0000000e+00  0.0000000e+00  4.7683716e-07  0.0000000e+00\n",
      "   0.0000000e+00  0.0000000e+00]\n",
      " [-2.3841858e-07  0.0000000e+00  0.0000000e+00  0.0000000e+00\n",
      "   0.0000000e+00  0.0000000e+00  2.3841858e-07  0.0000000e+00\n",
      "   0.0000000e+00  0.0000000e+00]\n",
      " [-1.1920929e-07 -1.1920929e-07  0.0000000e+00  0.0000000e+00\n",
      "  -2.3841858e-07  1.1920929e-07  0.0000000e+00  0.0000000e+00\n",
      "   0.0000000e+00  0.0000000e+00]\n",
      " [ 0.0000000e+00  2.3841858e-07  0.0000000e+00  0.0000000e+00\n",
      "   0.0000000e+00  0.0000000e+00  2.3841858e-07  0.0000000e+00\n",
      "   0.0000000e+00 -2.3841858e-07]]\n",
      "0.5248968 0.0018297\n"
     ]
    }
   ],
   "source": [
    "# for numba matrices with cuda\n",
    "# initialize random arrays\n",
    "N = 10\n",
    "randarr = np.random.rand(N,N).astype(np.float32)\n",
    "randarr1 = np.random.rand(N,N).astype(np.float32)\n",
    "\n",
    "npmatrix = npMatrix(randarr)\n",
    "npmatrix_1 = npMatrix(randarr1)\n",
    "\n",
    "nbcudamatrix = nbcudaMatrix(randarr)\n",
    "nbcudamatrix_1 = nbcudaMatrix(randarr1)\n",
    "\n",
    "# nrm = nbcudamatrix.norm()\n",
    "nbcudamatrix_prod, nbcuda_time = nbcudamatrix.matmul(nbcudamatrix_1, True)\n",
    "\n",
    "npmatrix_prod, np_time = npmatrix.matmul(npmatrix_1, True)\n",
    "\n",
    "print(nbcudamatrix_prod.arr - npmatrix_prod.arr)\n",
    "# print(nbcudamatrix_prod.arr)\n",
    "# print(npmatrix_prod.arr)\n",
    "\n",
    "print(nbcuda_time, np_time)"
   ]
  },
  {
   "cell_type": "code",
   "execution_count": 7,
   "metadata": {},
   "outputs": [
    {
     "name": "stdout",
     "output_type": "stream",
     "text": [
      "138 ms ± 1.92 ms per loop (mean ± std. dev. of 7 runs, 10 loops each)\n"
     ]
    }
   ],
   "source": [
    "%%timeit\n",
    "for i in range(10000):\n",
    "    prod = np.zeros((1000, 1000))"
   ]
  },
  {
   "cell_type": "code",
   "execution_count": null,
   "metadata": {},
   "outputs": [],
   "source": []
  }
 ],
 "metadata": {
  "kernelspec": {
   "display_name": "Python 3",
   "language": "python",
   "name": "python3"
  },
  "language_info": {
   "codemirror_mode": {
    "name": "ipython",
    "version": 3
   },
   "file_extension": ".py",
   "mimetype": "text/x-python",
   "name": "python",
   "nbconvert_exporter": "python",
   "pygments_lexer": "ipython3",
   "version": "3.7.3"
  }
 },
 "nbformat": 4,
 "nbformat_minor": 4
}
