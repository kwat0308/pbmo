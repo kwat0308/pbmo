{
 "cells": [
  {
   "cell_type": "code",
   "execution_count": null,
   "metadata": {},
   "outputs": [],
   "source": [
    "'''Testing platform used to check if cuda matricies output correctly or not. For examples, look at single_dimension.ipynb or multiple_dimension.ipynb'''"
   ]
  },
  {
   "cell_type": "code",
   "execution_count": 5,
   "metadata": {},
   "outputs": [
    {
     "name": "stderr",
     "output_type": "stream",
     "text": [
      "c:\\users\\voltk\\devel\\pbmo\\pbmo\\lib\\cumatrix.py:158: UserWarning: The CUDA compiler succeeded, but said the following:\n",
      "kernel.cu\r\n",
      "\n",
      "  \"b_ncols\": mat.ncols\n"
     ]
    }
   ],
   "source": [
    "from pbmo.lib.cumatrix import cuMatrix\n",
    "from pbmo.lib.pymatrix import npMatrix\n",
    "import numpy as np\n",
    "\n",
    "# initialize random arrays\n",
    "N = 500\n",
    "randarr = np.random.rand(N,N).astype(np.float32)\n",
    "randarr1 = np.random.rand(N,N).astype(np.float32)\n",
    "\n",
    "npmatrix = npMatrix(randarr)\n",
    "npmatrix_1 = npMatrix(randarr1)\n",
    "\n",
    "cumatrix = cuMatrix(randarr)\n",
    "cumatrix_1 = cuMatrix(randarr1)\n",
    "\n",
    "# nrm = cumatrix.norm()\n",
    "cumatrix_prod, cu_time = cumatrix.matmul(cumatrix_1, True)\n",
    "\n",
    "npmatrix_prod, np_time = npmatrix.matmul(npmatrix_1, True)"
   ]
  },
  {
   "cell_type": "code",
   "execution_count": 6,
   "metadata": {},
   "outputs": [
    {
     "name": "stdout",
     "output_type": "stream",
     "text": [
      "[[-1.5258789e-05  0.0000000e+00 -3.0517578e-05 ... -3.0517578e-05\n",
      "  -3.0517578e-05  7.6293945e-06]\n",
      " [-1.5258789e-05  5.3405762e-05 -1.5258789e-05 ... -7.6293945e-06\n",
      "  -3.8146973e-05  7.6293945e-06]\n",
      " [ 2.2888184e-05 -7.6293945e-06 -4.5776367e-05 ... -1.5258789e-05\n",
      "  -3.0517578e-05  7.6293945e-06]\n",
      " ...\n",
      " [ 6.1035156e-05 -5.3405762e-05  3.0517578e-05 ... -7.6293945e-06\n",
      "   3.8146973e-05  5.3405762e-05]\n",
      " [-4.5776367e-05  1.5258789e-05  7.6293945e-06 ... -6.1035156e-05\n",
      "   9.1552734e-05  1.5258789e-05]\n",
      " [ 1.5258789e-05  3.8146973e-05 -2.2888184e-05 ... -1.0681152e-04\n",
      "  -2.2888184e-05 -3.8146973e-05]]\n"
     ]
    }
   ],
   "source": [
    "print(cumatrix_prod.arr - npmatrix_prod.arr)\n",
    "# print(cumatrix_prod.ncols)"
   ]
  },
  {
   "cell_type": "code",
   "execution_count": 3,
   "metadata": {},
   "outputs": [
    {
     "name": "stdout",
     "output_type": "stream",
     "text": [
      "0.001665 2.6600875000000004\n"
     ]
    }
   ],
   "source": [
    "print(cu_time, np_time)"
   ]
  },
  {
   "cell_type": "code",
   "execution_count": 7,
   "metadata": {},
   "outputs": [
    {
     "name": "stdout",
     "output_type": "stream",
     "text": [
      "0.0\n"
     ]
    }
   ],
   "source": [
    "print(nrm)"
   ]
  },
  {
   "cell_type": "code",
   "execution_count": 4,
   "metadata": {},
   "outputs": [
    {
     "data": {
      "text/plain": [
       "32.0"
      ]
     },
     "execution_count": 4,
     "metadata": {},
     "output_type": "execute_result"
    }
   ],
   "source": [
    "import numpy as np\n",
    "np.sqrt(1024)"
   ]
  },
  {
   "cell_type": "code",
   "execution_count": 5,
   "metadata": {},
   "outputs": [
    {
     "name": "stdout",
     "output_type": "stream",
     "text": [
      "<class 'numpy.int32'>\n"
     ]
    }
   ],
   "source": [
    "a = 10\n",
    "a = np.int32(a)\n",
    "print(type(a))"
   ]
  },
  {
   "cell_type": "code",
   "execution_count": 1,
   "metadata": {},
   "outputs": [
    {
     "name": "stderr",
     "output_type": "stream",
     "text": [
      "C:\\Users\\voltk\\Anaconda3\\lib\\site-packages\\scikit_cuda-0.5.4-py3.7.egg\\skcuda\\cublas.py:284: UserWarning: creating CUBLAS context to get version number\n",
      "  warnings.warn('creating CUBLAS context to get version number')\n"
     ]
    }
   ],
   "source": [
    "from pbmo.lib.cublasmatrix import cublasMatrix\n",
    "from pbmo.lib.pymatrix import npMatrix\n",
    "import numpy as np\n",
    "\n",
    "# initialize random arrays\n",
    "M = 50\n",
    "N = 10\n",
    "K = 40\n",
    "randarr = np.random.rand(M,N).astype(np.float32)\n",
    "randarr1 = np.random.rand(N,K).astype(np.float32)\n",
    "\n",
    "npmatrix = npMatrix(randarr)\n",
    "npmatrix_1 = npMatrix(randarr1)\n",
    "\n",
    "cublasmatrix = cublasMatrix(randarr)\n",
    "cublasmatrix_1 = cublasMatrix(randarr1)\n",
    "\n",
    "# nrm = cumatrix.norm()\n",
    "cublasmatrix_prod, cublas_time = cublasmatrix.matmul(cublasmatrix_1, True)\n",
    "\n",
    "npmatrix_prod, np_time = npmatrix.matmul(npmatrix_1, True)"
   ]
  },
  {
   "cell_type": "code",
   "execution_count": 2,
   "metadata": {},
   "outputs": [
    {
     "name": "stdout",
     "output_type": "stream",
     "text": [
      "[[-2.3841858e-07  0.0000000e+00 -2.3841858e-07 ...  2.3841858e-07\n",
      "  -2.3841858e-07  0.0000000e+00]\n",
      " [-4.7683716e-07  0.0000000e+00  0.0000000e+00 ... -2.3841858e-07\n",
      "   2.3841858e-07 -2.3841858e-07]\n",
      " [ 0.0000000e+00  0.0000000e+00  0.0000000e+00 ... -2.3841858e-07\n",
      "   0.0000000e+00  0.0000000e+00]\n",
      " ...\n",
      " [ 2.3841858e-07  2.3841858e-07 -4.7683716e-07 ...  2.3841858e-07\n",
      "   2.3841858e-07  0.0000000e+00]\n",
      " [-2.3841858e-07  0.0000000e+00  2.3841858e-07 ...  0.0000000e+00\n",
      "   2.3841858e-07 -2.3841858e-07]\n",
      " [ 0.0000000e+00  0.0000000e+00  2.3841858e-07 ...  2.3841858e-07\n",
      "   0.0000000e+00  0.0000000e+00]]\n"
     ]
    }
   ],
   "source": [
    "print(cublasmatrix_prod.arr - npmatrix_prod.arr)"
   ]
  },
  {
   "cell_type": "code",
   "execution_count": 3,
   "metadata": {},
   "outputs": [
    {
     "name": "stdout",
     "output_type": "stream",
     "text": [
      "(50, 40)\n"
     ]
    }
   ],
   "source": [
    "print(npmatrix_prod.arr.shape)"
   ]
  },
  {
   "cell_type": "code",
   "execution_count": null,
   "metadata": {},
   "outputs": [],
   "source": []
  }
 ],
 "metadata": {
  "kernelspec": {
   "display_name": "Python 3",
   "language": "python",
   "name": "python3"
  },
  "language_info": {
   "codemirror_mode": {
    "name": "ipython",
    "version": 3
   },
   "file_extension": ".py",
   "mimetype": "text/x-python",
   "name": "python",
   "nbconvert_exporter": "python",
   "pygments_lexer": "ipython3",
   "version": "3.7.3"
  }
 },
 "nbformat": 4,
 "nbformat_minor": 4
}