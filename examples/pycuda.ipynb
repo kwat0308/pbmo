{
 "cells": [
  {
   "cell_type": "code",
   "execution_count": null,
   "metadata": {},
   "outputs": [],
   "source": [
    "'''Testing platform used to check if cuda matricies output correctly or not. For examples, look at single_dimension.ipynb or multiple_dimension.ipynb'''\n",
    "from pbmo.lib.cumatrix import cuMatrix\n",
    "from pbmo.lib.cublasmatrix import cublasMatrix\n",
    "from pbmo.lib.pymatrix import npMatrix\n",
    "import numpy as np"
   ]
  },
  {
   "cell_type": "code",
   "execution_count": 5,
   "metadata": {},
   "outputs": [
    {
     "name": "stderr",
     "output_type": "stream",
     "text": [
      "c:\\users\\voltk\\devel\\pbmo\\pbmo\\lib\\cumatrix.py:158: UserWarning: The CUDA compiler succeeded, but said the following:\n",
      "kernel.cu\n",
      "\n",
      "  \"b_ncols\": mat.ncols\n"
     ]
    }
   ],
   "source": [
    "# for pycuda matrices\n",
    "\n",
    "# initialize random arrays\n",
    "N = 500\n",
    "randarr = np.random.rand(N,N).astype(np.float32)\n",
    "randarr1 = np.random.rand(N,N).astype(np.float32)\n",
    "\n",
    "npmatrix = npMatrix(randarr)\n",
    "npmatrix_1 = npMatrix(randarr1)\n",
    "\n",
    "cumatrix = cuMatrix(randarr)\n",
    "cumatrix_1 = cuMatrix(randarr1)\n",
    "\n",
    "# nrm = cumatrix.norm()\n",
    "cumatrix_prod, cu_time = cumatrix.matmul(cumatrix_1, True)\n",
    "\n",
    "npmatrix_prod, np_time = npmatrix.matmul(npmatrix_1, True)\n",
    "\n",
    "print(cumatrix_prod.arr - npmatrix_prod.arr)\n",
    "# print(cumatrix_prod.ncols)\n",
    "\n",
    "print(cu_time, np_time)"
   ]
  },
  {
   "cell_type": "code",
   "execution_count": 1,
   "metadata": {},
   "outputs": [
    {
     "name": "stderr",
     "output_type": "stream",
     "text": [
      "C:\\Users\\voltk\\Anaconda3\\lib\\site-packages\\scikit_cuda-0.5.4-py3.7.egg\\skcuda\\cublas.py:284: UserWarning: creating CUBLAS context to get version number\n",
      "  warnings.warn('creating CUBLAS context to get version number')\n"
     ]
    }
   ],
   "source": [
    "# for cublas matrices\n",
    "\n",
    "# initialize random arrays\n",
    "M = 50\n",
    "N = 10\n",
    "K = 40\n",
    "randarr = np.random.rand(M,N).astype(np.float32)\n",
    "randarr1 = np.random.rand(N,K).astype(np.float32)\n",
    "\n",
    "npmatrix = npMatrix(randarr)\n",
    "npmatrix_1 = npMatrix(randarr1)\n",
    "\n",
    "cublasmatrix = cublasMatrix(randarr)\n",
    "cublasmatrix_1 = cublasMatrix(randarr1)\n",
    "\n",
    "# nrm = cumatrix.norm()\n",
    "cublasmatrix_prod, cublas_time = cublasmatrix.matmul(cublasmatrix_1, True)\n",
    "\n",
    "npmatrix_prod, np_time = npmatrix.matmul(npmatrix_1, True)\n",
    "\n",
    "print(cublasmatrix_prod.arr - npmatrix_prod.arr)\n",
    "\n",
    "print(cublas_time, np_time)"
   ]
  }
 ],
 "metadata": {
  "kernelspec": {
   "display_name": "Python 3",
   "language": "python",
   "name": "python3"
  },
  "language_info": {
   "codemirror_mode": {
    "name": "ipython",
    "version": 3
   },
   "file_extension": ".py",
   "mimetype": "text/x-python",
   "name": "python",
   "nbconvert_exporter": "python",
   "pygments_lexer": "ipython3",
   "version": "3.7.3"
  }
 },
 "nbformat": 4,
 "nbformat_minor": 4
}
