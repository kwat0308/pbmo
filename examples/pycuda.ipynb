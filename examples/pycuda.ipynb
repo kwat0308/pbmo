{
 "cells": [
  {
   "cell_type": "code",
   "execution_count": 1,
   "metadata": {},
   "outputs": [],
   "source": [
    "from pbmo.lib.cumatrix import cuMatrix\n",
    "from pbmo.lib.pymatrix import npMatrix\n",
    "import numpy as np\n",
    "\n",
    "# initialize random arrays\n",
    "N = 500\n",
    "randarr = np.random.rand(N,N).astype(np.float32)\n",
    "randarr1 = np.random.rand(N,N).astype(np.float32)\n",
    "\n",
    "npmatrix = npMatrix(randarr)\n",
    "npmatrix_1 = npMatrix(randarr1)\n",
    "\n",
    "cumatrix = cuMatrix(randarr)\n",
    "cumatrix_1 = cuMatrix(randarr1)\n",
    "\n",
    "# nrm = cumatrix.norm()\n",
    "cumatrix_prod, cu_time = cumatrix.matmul(cumatrix_1, True)\n",
    "\n",
    "npmatrix_prod, np_time = npmatrix.matmul(npmatrix_1, True)"
   ]
  },
  {
   "cell_type": "code",
   "execution_count": 2,
   "metadata": {},
   "outputs": [
    {
     "name": "stdout",
     "output_type": "stream",
     "text": [
      "[[133.35448  130.75769  128.3233   ... 128.78642  130.5848   134.56737 ]\n",
      " [132.31549  128.37128  127.063416 ... 129.06894  130.80052  131.27219 ]\n",
      " [132.22644  124.39727  123.98894  ... 126.78614  121.10464  129.71707 ]\n",
      " ...\n",
      " [132.36536  125.90039  123.123924 ... 122.830574 126.28934  130.33696 ]\n",
      " [138.99933  128.82805  128.58974  ... 132.38364  131.6074   134.34892 ]\n",
      " [128.07794  121.365974 123.03884  ... 125.07366  122.8133   123.525986]]\n",
      "[[133.35446  130.75772  128.3233   ... 128.7864   130.58484  134.56732 ]\n",
      " [132.31538  128.37134  127.06347  ... 129.06898  130.8005   131.2722  ]\n",
      " [132.22643  124.39723  123.98889  ... 126.78617  121.10461  129.71703 ]\n",
      " ...\n",
      " [132.36536  125.90039  123.123924 ... 122.83057  126.28934  130.33696 ]\n",
      " [138.99933  128.82805  128.58975  ... 132.38364  131.6074   134.34892 ]\n",
      " [128.07794  121.365974 123.03884  ... 125.07367  122.8133   123.52599 ]]\n"
     ]
    }
   ],
   "source": [
    "print(cumatrix_prod.arr)\n",
    "print(npmatrix_prod.arr)\n",
    "# print(cumatrix_prod.ncols)"
   ]
  },
  {
   "cell_type": "code",
   "execution_count": 3,
   "metadata": {},
   "outputs": [
    {
     "name": "stdout",
     "output_type": "stream",
     "text": [
      "0.001665 2.6600875000000004\n"
     ]
    }
   ],
   "source": [
    "print(cu_time, np_time)"
   ]
  },
  {
   "cell_type": "code",
   "execution_count": 7,
   "metadata": {},
   "outputs": [
    {
     "name": "stdout",
     "output_type": "stream",
     "text": [
      "0.0\n"
     ]
    }
   ],
   "source": [
    "print(nrm)"
   ]
  },
  {
   "cell_type": "code",
   "execution_count": 4,
   "metadata": {},
   "outputs": [
    {
     "data": {
      "text/plain": [
       "32.0"
      ]
     },
     "execution_count": 4,
     "metadata": {},
     "output_type": "execute_result"
    }
   ],
   "source": [
    "import numpy as np\n",
    "np.sqrt(1024)"
   ]
  },
  {
   "cell_type": "code",
   "execution_count": 5,
   "metadata": {},
   "outputs": [
    {
     "name": "stdout",
     "output_type": "stream",
     "text": [
      "<class 'numpy.int32'>\n"
     ]
    }
   ],
   "source": [
    "a = 10\n",
    "a = np.int32(a)\n",
    "print(type(a))"
   ]
  },
  {
   "cell_type": "code",
   "execution_count": null,
   "metadata": {},
   "outputs": [],
   "source": []
  }
 ],
 "metadata": {
  "kernelspec": {
   "display_name": "Python 3",
   "language": "python",
   "name": "python3"
  },
  "language_info": {
   "codemirror_mode": {
    "name": "ipython",
    "version": 3
   },
   "file_extension": ".py",
   "mimetype": "text/x-python",
   "name": "python",
   "nbconvert_exporter": "python",
   "pygments_lexer": "ipython3",
   "version": "3.8.5"
  }
 },
 "nbformat": 4,
 "nbformat_minor": 4
}
