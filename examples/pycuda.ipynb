{
 "cells": [
  {
   "cell_type": "code",
   "execution_count": 3,
   "metadata": {},
   "outputs": [],
   "source": [
    "from pbmo.lib.cumatrix import cuMatrix\n",
    "from pbmo.lib.pymatrix import npMatrix\n",
    "import numpy as np\n",
    "\n",
    "# initialize random arrays\n",
    "randarr = np.random.rand(10,10).astype(np.float32)\n",
    "randarr1 = np.random.rand(10,10).astype(np.float32)\n",
    "\n",
    "npmatrix = npMatrix(randarr)\n",
    "npmatrix_1 = npMatrix(randarr1)\n",
    "\n",
    "cumatrix = cuMatrix(randarr)\n",
    "cumatrix_1 = cuMatrix(randarr1)\n",
    "\n",
    "# nrm = cumatrix.norm()\n",
    "cumatrix_prod, cu_time = cumatrix.matmul(cumatrix_1, True)\n",
    "\n",
    "npmatrix_prod, np_time = npmatrix.matmul(npmatrix_1, True)"
   ]
  },
  {
   "cell_type": "code",
   "execution_count": 4,
   "metadata": {},
   "outputs": [
    {
     "name": "stdout",
     "output_type": "stream",
     "text": [
      "[[2.9452667 3.75752   2.3109405 2.181517  2.5376825 3.7351031 3.0739238\n",
      "  2.8190658 2.2324843 3.1165972]\n",
      " [2.747648  3.2370963 2.1727564 1.5774851 2.2626913 3.1666682 2.7477934\n",
      "  2.242241  1.4879436 2.528607 ]\n",
      " [1.5685948 2.1456935 1.0072098 1.6653363 1.3189598 1.4527935 2.0580084\n",
      "  1.8203373 1.6228564 1.8683888]\n",
      " [1.4356667 2.29923   1.5721098 1.1847821 1.1377268 2.3552496 1.6815801\n",
      "  1.7180799 1.1281248 1.659659 ]\n",
      " [1.3526549 2.1824765 1.6004    1.0379862 1.3199301 1.9591005 2.0971408\n",
      "  1.4794202 1.288227  1.5237575]\n",
      " [2.8640444 3.3607087 1.9928021 1.9358686 2.2359228 2.9219    2.8062937\n",
      "  2.3415935 1.627092  2.5164106]\n",
      " [2.4148917 2.682656  1.5122393 1.4302057 1.8793147 2.3592942 2.0974507\n",
      "  1.927334  1.2923754 2.224952 ]\n",
      " [3.0179498 3.6548173 2.6380851 1.8459964 2.6095045 3.8186557 2.8471012\n",
      "  2.7438989 1.8142424 2.909048 ]\n",
      " [2.117125  2.774955  1.6682266 1.7037952 2.1435153 3.004228  2.6657658\n",
      "  2.0457957 2.015102  2.3126566]\n",
      " [2.6835995 2.8791769 1.5372376 1.7756262 2.2790043 2.756508  2.4491763\n",
      "  2.4347749 1.6667385 2.1140144]]\n",
      "[[2.9452667 3.75752   2.3109405 2.181517  2.5376825 3.7351031 3.0739238\n",
      "  2.8190658 2.2324843 3.1165972]\n",
      " [2.747648  3.2370963 2.1727564 1.5774851 2.2626913 3.1666682 2.7477934\n",
      "  2.242241  1.4879436 2.528607 ]\n",
      " [1.5685948 2.1456935 1.0072098 1.6653363 1.3189598 1.4527935 2.0580084\n",
      "  1.8203373 1.6228564 1.8683888]\n",
      " [1.4356667 2.29923   1.5721098 1.1847821 1.1377268 2.3552496 1.6815801\n",
      "  1.7180799 1.1281248 1.659659 ]\n",
      " [1.3526549 2.1824765 1.6004    1.0379862 1.3199301 1.9591005 2.0971408\n",
      "  1.4794202 1.288227  1.5237575]\n",
      " [2.8640444 3.3607087 1.9928021 1.9358686 2.2359228 2.9219    2.8062937\n",
      "  2.3415935 1.627092  2.5164106]\n",
      " [2.4148917 2.682656  1.5122393 1.4302057 1.8793147 2.3592942 2.0974507\n",
      "  1.927334  1.2923754 2.224952 ]\n",
      " [3.0179498 3.6548173 2.6380851 1.8459964 2.6095045 3.8186557 2.8471012\n",
      "  2.7438989 1.8142424 2.909048 ]\n",
      " [2.117125  2.774955  1.6682266 1.7037952 2.1435153 3.004228  2.6657658\n",
      "  2.0457957 2.015102  2.3126566]\n",
      " [2.6835995 2.8791769 1.5372376 1.7756262 2.2790043 2.756508  2.4491763\n",
      "  2.4347749 1.6667385 2.1140144]]\n"
     ]
    }
   ],
   "source": [
    "print(cumatrix_prod.arr)\n",
    "print(npmatrix_prod.arr)\n",
    "# print(cumatrix_prod.ncols)"
   ]
  },
  {
   "cell_type": "code",
   "execution_count": 5,
   "metadata": {},
   "outputs": [
    {
     "name": "stdout",
     "output_type": "stream",
     "text": [
      "6.54e-05 2.97e-05\n"
     ]
    }
   ],
   "source": [
    "print(cu_time, np_time)"
   ]
  },
  {
   "cell_type": "code",
   "execution_count": 7,
   "metadata": {},
   "outputs": [
    {
     "name": "stdout",
     "output_type": "stream",
     "text": [
      "0.0\n"
     ]
    }
   ],
   "source": [
    "print(nrm)"
   ]
  },
  {
   "cell_type": "code",
   "execution_count": 4,
   "metadata": {},
   "outputs": [
    {
     "data": {
      "text/plain": [
       "32.0"
      ]
     },
     "execution_count": 4,
     "metadata": {},
     "output_type": "execute_result"
    }
   ],
   "source": [
    "import numpy as np\n",
    "np.sqrt(1024)"
   ]
  },
  {
   "cell_type": "code",
   "execution_count": 5,
   "metadata": {},
   "outputs": [
    {
     "name": "stdout",
     "output_type": "stream",
     "text": [
      "<class 'numpy.int32'>\n"
     ]
    }
   ],
   "source": [
    "a = 10\n",
    "a = np.int32(a)\n",
    "print(type(a))"
   ]
  },
  {
   "cell_type": "code",
   "execution_count": null,
   "metadata": {},
   "outputs": [],
   "source": []
  }
 ],
 "metadata": {
  "kernelspec": {
   "display_name": "Python 3",
   "language": "python",
   "name": "python3"
  },
  "language_info": {
   "codemirror_mode": {
    "name": "ipython",
    "version": 3
   },
   "file_extension": ".py",
   "mimetype": "text/x-python",
   "name": "python",
   "nbconvert_exporter": "python",
   "pygments_lexer": "ipython3",
   "version": "3.7.3"
  }
 },
 "nbformat": 4,
 "nbformat_minor": 4
}
